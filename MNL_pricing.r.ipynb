{
 "cells": [
  {
   "cell_type": "code",
   "execution_count": 44,
   "metadata": {
    "collapsed": false
   },
   "outputs": [],
   "source": [
    "library(rJava)\n",
    "library(xlsx)\n",
    "library(Rsolnp)"
   ]
  },
  {
   "cell_type": "code",
   "execution_count": 45,
   "metadata": {
    "collapsed": true
   },
   "outputs": [],
   "source": [
    "product_types = read.xlsx(\"B8816-TakeHomeFinal-Fall2016.xlsx\", sheetName = \"question3-attributes\")\n",
    "data_prob3 = read.xlsx(\"B8816-TakeHomeFinal-Fall2016.xlsx\", sheetName = \"question3-wtp\")"
   ]
  },
  {
   "cell_type": "code",
   "execution_count": 46,
   "metadata": {
    "collapsed": true
   },
   "outputs": [],
   "source": [
    "# Consolidating data from two sheets\n",
    "data_combined = matrix(NA, nrow = nrow(data_prob3)*nrow(product_types), ncol = 8)\n",
    "index = 0\n",
    "for (i in 1:nrow(data_prob3)) {\n",
    "  for (j in 1:nrow(product_types)) {\n",
    "    index = index + 1\n",
    "    data_combined[index,] = unlist(c(data_prob3[i,1:2], data_prob3[i,j+2], product_types[j,1:5]))\n",
    "  }\n",
    "}\n",
    "data_combined = as.data.frame(data_combined)\n",
    "colnames(data_combined) = c(names((data_prob3)[1:2]), \"WTP\", names(product_types))"
   ]
  },
  {
   "cell_type": "code",
   "execution_count": 47,
   "metadata": {
    "collapsed": false
   },
   "outputs": [
    {
     "data": {
      "text/plain": [
       "\n",
       "Call:\n",
       "lm(formula = WTP ~ Screen + Weight + RAM + CPU, data = data_traveler)\n",
       "\n",
       "Residuals:\n",
       "    Min      1Q  Median      3Q     Max \n",
       "-423.93 -104.34  -14.58   82.09  822.57 \n",
       "\n",
       "Coefficients:\n",
       "             Estimate Std. Error t value Pr(>|t|)    \n",
       "(Intercept) 1871.2770    17.0002  110.07   <2e-16 ***\n",
       "Screen        32.6075     1.4612   22.32   <2e-16 ***\n",
       "Weight      -205.8568     1.6123 -127.68   <2e-16 ***\n",
       "RAM            8.2826     0.4916   16.85   <2e-16 ***\n",
       "CPU           42.1295     3.0787   13.68   <2e-16 ***\n",
       "---\n",
       "Signif. codes:  0 '***' 0.001 '**' 0.01 '*' 0.05 '.' 0.1 ' ' 1\n",
       "\n",
       "Residual standard error: 143 on 7195 degrees of freedom\n",
       "Multiple R-squared:  0.7228,\tAdjusted R-squared:  0.7227 \n",
       "F-statistic:  4691 on 4 and 7195 DF,  p-value: < 2.2e-16\n"
      ]
     },
     "metadata": {},
     "output_type": "display_data"
    },
    {
     "data": {
      "text/plain": [
       "\n",
       "Call:\n",
       "lm(formula = WTP ~ Screen + Weight + RAM + CPU, data = data_general)\n",
       "\n",
       "Residuals:\n",
       "    Min      1Q  Median      3Q     Max \n",
       "-724.65 -199.19  -31.07  148.93 1575.35 \n",
       "\n",
       "Coefficients:\n",
       "            Estimate Std. Error t value Pr(>|t|)    \n",
       "(Intercept)  991.357     25.452   38.95   <2e-16 ***\n",
       "Screen        56.286      2.188   25.73   <2e-16 ***\n",
       "Weight      -103.968      2.414  -43.07   <2e-16 ***\n",
       "RAM           18.985      0.736   25.80   <2e-16 ***\n",
       "CPU           96.981      4.609   21.04   <2e-16 ***\n",
       "---\n",
       "Signif. codes:  0 '***' 0.001 '**' 0.01 '*' 0.05 '.' 0.1 ' ' 1\n",
       "\n",
       "Residual standard error: 276.4 on 11995 degrees of freedom\n",
       "Multiple R-squared:  0.2409,\tAdjusted R-squared:  0.2406 \n",
       "F-statistic: 951.5 on 4 and 11995 DF,  p-value: < 2.2e-16\n"
      ]
     },
     "metadata": {},
     "output_type": "display_data"
    },
    {
     "data": {
      "text/plain": [
       "\n",
       "Call:\n",
       "lm(formula = WTP ~ Screen + Weight + RAM + CPU, data = data_power)\n",
       "\n",
       "Residuals:\n",
       "    Min      1Q  Median      3Q     Max \n",
       "-176.45  -57.75  -13.42   36.58  439.94 \n",
       "\n",
       "Coefficients:\n",
       "             Estimate Std. Error t value Pr(>|t|)    \n",
       "(Intercept) -774.3073    10.4690  -73.96   <2e-16 ***\n",
       "Screen       100.8356     0.8999  112.06   <2e-16 ***\n",
       "Weight       -21.1604     0.9929  -21.31   <2e-16 ***\n",
       "RAM           30.1614     0.3027   99.63   <2e-16 ***\n",
       "CPU          197.3537     1.8959  104.10   <2e-16 ***\n",
       "---\n",
       "Signif. codes:  0 '***' 0.001 '**' 0.01 '*' 0.05 '.' 0.1 ' ' 1\n",
       "\n",
       "Residual standard error: 71.91 on 4795 degrees of freedom\n",
       "Multiple R-squared:  0.9586,\tAdjusted R-squared:  0.9586 \n",
       "F-statistic: 2.779e+04 on 4 and 4795 DF,  p-value: < 2.2e-16\n"
      ]
     },
     "metadata": {},
     "output_type": "display_data"
    }
   ],
   "source": [
    "# Linear model for traveler WTP\n",
    "data_traveler = subset(data_combined, Type == 1)\n",
    "traveler_WTP_model = lm(WTP ~ Screen + Weight + RAM + CPU, data = data_traveler)\n",
    "summary(traveler_WTP_model)\n",
    "\n",
    "# Linear model for general user WTP\n",
    "data_general = subset(data_combined, Type == 2)\n",
    "general_WTP_model = lm(WTP ~ Screen + Weight + RAM + CPU, data = data_general)\n",
    "summary(general_WTP_model)\n",
    "\n",
    "# Linear model for power user WTP\n",
    "data_power = subset(data_combined, Type == 3)\n",
    "power_WTP_model = lm(WTP ~ Screen + Weight + RAM + CPU, data = data_power)\n",
    "summary(power_WTP_model)"
   ]
  },
  {
   "cell_type": "code",
   "execution_count": 48,
   "metadata": {
    "collapsed": false
   },
   "outputs": [
    {
     "data": {
      "text/html": [
       "107.93"
      ],
      "text/latex": [
       "107.93"
      ],
      "text/markdown": [
       "107.93"
      ],
      "text/plain": [
       "[1] 107.93"
      ]
     },
     "metadata": {},
     "output_type": "display_data"
    }
   ],
   "source": [
    "# Estimation of MNL model for travelers\n",
    "data_traveler = subset(data_prob3, Type == 1)\n",
    "var_traveler = apply(data_traveler[,3:26], 2, var)\n",
    "mu_traveler = sqrt(mean(var_traveler) * 6) / pi\n",
    "\n",
    "# MNL model shape parameter for travelers\n",
    "round(mu_traveler, digits=2)\n",
    "\n",
    "# MNL model for travelers incorporating linear model for WTP based on design attributes\n",
    "traveler_demand_MNL = function(inputs){\n",
    "  \n",
    "  # each product represents a column in the inputs matrix\n",
    "  attributes = inputs[1:4,]\n",
    "  prices = inputs[5,]\n",
    "  \n",
    "  # Estimating u coefficients from linear model for WTP\n",
    "  u = rep(NA,ncol(attributes))\n",
    "  for (i in 1:ncol(attributes)) {\n",
    "    product_parameters = c(1,attributes[,i])\n",
    "    u[i] = sum(traveler_WTP_model$coefficients * product_parameters)\n",
    "  }\n",
    "  \n",
    "  # Estimating choice probabilities\n",
    "  attract = exp((u - prices) / mu_traveler)\n",
    "  choice = attract / (sum(attract) + 1)\n",
    "  return(choice)\n",
    "}"
   ]
  },
  {
   "cell_type": "code",
   "execution_count": 49,
   "metadata": {
    "collapsed": false
   },
   "outputs": [
    {
     "data": {
      "text/html": [
       "214.93"
      ],
      "text/latex": [
       "214.93"
      ],
      "text/markdown": [
       "214.93"
      ],
      "text/plain": [
       "[1] 214.93"
      ]
     },
     "metadata": {},
     "output_type": "display_data"
    }
   ],
   "source": [
    "# Estimation of MNL model for general users\n",
    "data_general = subset(data_prob3, Type == 2)\n",
    "var_general = apply(data_general[,3:26], 2, var)\n",
    "mu_general = sqrt(mean(var_general) * 6) / pi\n",
    "\n",
    "# MNL model shape parameter for general users\n",
    "round(mu_general, digits=2)\n",
    "\n",
    "# MNL model for general users incorporating linear model for WTP based on design attributes\n",
    "general_demand_MNL = function(inputs){\n",
    "  \n",
    "  # each product represents a column in the inputs matrix\n",
    "  attributes = inputs[1:4,]\n",
    "  prices = inputs[5,]\n",
    "  \n",
    "  # Estimating u coefficients from linear model for WTP\n",
    "  u = rep(NA,ncol(attributes))\n",
    "  for (i in 1:ncol(attributes)) {\n",
    "    product_parameters = c(1,attributes[,i])\n",
    "    u[i] = sum(general_WTP_model$coefficients * product_parameters)\n",
    "  }\n",
    "  \n",
    "  # Estimating choice probabilities\n",
    "  attract = exp((u - prices) / mu_general)\n",
    "  choice = attract / (sum(attract) + 1)\n",
    "  return(choice)\n",
    "}"
   ]
  },
  {
   "cell_type": "code",
   "execution_count": 50,
   "metadata": {
    "collapsed": false
   },
   "outputs": [
    {
     "data": {
      "text/html": [
       "55.93"
      ],
      "text/latex": [
       "55.93"
      ],
      "text/markdown": [
       "55.93"
      ],
      "text/plain": [
       "[1] 55.93"
      ]
     },
     "metadata": {},
     "output_type": "display_data"
    }
   ],
   "source": [
    "# Estimation of MNL model for power users\n",
    "data_power = subset(data_prob3, Type == 3)\n",
    "var_power = apply(data_power[,3:26], 2, var)\n",
    "mu_power = sqrt(mean(var_power) * 6) / pi\n",
    "\n",
    "# MNL model shape parameter for power users\n",
    "round(mu_power, digits=2)\n",
    "\n",
    "# MNL model for power users incorporating linear model for WTP based on design attributes\n",
    "power_demand_MNL = function(inputs){\n",
    "  \n",
    "  # each product represents a column in the inputs matrix\n",
    "  attributes = inputs[1:4,]\n",
    "  prices = inputs[5,]\n",
    "  \n",
    "  # Estimating u coefficients from linear model for WTP\n",
    "  u = rep(NA,ncol(attributes))\n",
    "  for (i in 1:ncol(attributes)) {\n",
    "    product_parameters = c(1,attributes[,i])\n",
    "    u[i] = sum(power_WTP_model$coefficients * product_parameters)\n",
    "  }\n",
    "  \n",
    "  # Estimating choice probabilities\n",
    "  attract = exp((u - prices) / mu_power)\n",
    "  choice = attract / (sum(attract) + 1)\n",
    "  return(choice)\n",
    "}"
   ]
  },
  {
   "cell_type": "code",
   "execution_count": 51,
   "metadata": {
    "collapsed": true
   },
   "outputs": [],
   "source": [
    "# Inputting example data\n",
    "Example_attributes = t(rbind(product_types[1,2:5],product_types[10,2:5],product_types[24,2:5]))\n",
    "Example_prices = c(1400, 1600, 1700)\n",
    "Example_matrix = rbind(Example_attributes, Example_prices)\n",
    "Example = as.data.frame(Example_matrix)"
   ]
  },
  {
   "cell_type": "code",
   "execution_count": 52,
   "metadata": {
    "collapsed": false
   },
   "outputs": [],
   "source": [
    "# Estimating choices for each segment\n",
    "Example_result_traveler = 300*traveler_demand_MNL(Example)\n",
    "Example_result_traveler[4] = 300 - sum(Example_result_traveler[1:3])\n",
    "Example_result_general = 500*general_demand_MNL(Example)\n",
    "Example_result_general[4] = 500 - sum(Example_result_general[1:3])\n",
    "Example_result_power = 200*power_demand_MNL(Example)\n",
    "Example_result_power[4] = 200 - sum(Example_result_power[1:3])"
   ]
  },
  {
   "cell_type": "code",
   "execution_count": 53,
   "metadata": {
    "collapsed": false
   },
   "outputs": [
    {
     "data": {
      "text/html": [
       "<table>\n",
       "<thead><tr><th></th><th scope=col>Product 1</th><th scope=col>Product 10</th><th scope=col>Product 24</th><th scope=col>No buy</th></tr></thead>\n",
       "<tbody>\n",
       "\t<tr><th scope=row>traveler</th><td>288</td><td> 3 </td><td>  0</td><td> 9 </td></tr>\n",
       "\t<tr><th scope=row>general</th><td>203</td><td>81 </td><td>147</td><td>69 </td></tr>\n",
       "\t<tr><th scope=row>power</th><td>  0</td><td> 0 </td><td>198</td><td> 2 </td></tr>\n",
       "</tbody>\n",
       "</table>\n"
      ],
      "text/latex": [
       "\\begin{tabular}{r|llll}\n",
       "  & Product 1 & Product 10 & Product 24 & No buy\\\\\n",
       "\\hline\n",
       "\ttraveler & 288 &  3  &   0 &  9 \\\\\n",
       "\tgeneral & 203 & 81  & 147 & 69 \\\\\n",
       "\tpower &   0 &  0  & 198 &  2 \\\\\n",
       "\\end{tabular}\n"
      ],
      "text/markdown": [
       "\n",
       "| <!--/--> | Product 1 | Product 10 | Product 24 | No buy | \n",
       "|---|---|---|\n",
       "| traveler | 288 |  3  |   0 |  9  | \n",
       "| general | 203 | 81  | 147 | 69  | \n",
       "| power |   0 |  0  | 198 |  2  | \n",
       "\n",
       "\n"
      ],
      "text/plain": [
       "         Product 1 Product 10 Product 24 No buy\n",
       "traveler 288        3           0         9    \n",
       "general  203       81         147        69    \n",
       "power      0        0         198         2    "
      ]
     },
     "metadata": {},
     "output_type": "display_data"
    }
   ],
   "source": [
    "# Formatting output table with choices\n",
    "Example_result = rbind(Example_result_traveler, Example_result_general, Example_result_power)\n",
    "colnames(Example_result) = c(paste(\"Product\",colnames(Example)),\"No buy\")\n",
    "rownames(Example_result) = c(\"traveler\", \"general\", \"power\")\n",
    "\n",
    "# Choices of each of the segments\n",
    "round(Example_result, 0)"
   ]
  },
  {
   "cell_type": "code",
   "execution_count": 54,
   "metadata": {
    "collapsed": true
   },
   "outputs": [],
   "source": [
    "# Cost per product function\n",
    "Product_cost = function(product_attributes){\n",
    "  cost_factors = c(45,-70,5,100)\n",
    "  product_atts = as.vector(product_attributes)\n",
    "  cost = 250 + sum(cost_factors*product_atts)\n",
    "  return(cost)\n",
    "}"
   ]
  },
  {
   "cell_type": "code",
   "execution_count": 55,
   "metadata": {
    "collapsed": true
   },
   "outputs": [],
   "source": [
    "# Total profit function for a vector of 2 products\n",
    "Profit3 = function(inputs){\n",
    "  \n",
    "  # Parsing input data\n",
    "  inputs = matrix(inputs,nrow = 5,ncol = 2)\n",
    "  attributes = inputs[1:4,]\n",
    "  prices = inputs[5,]\n",
    "\n",
    "  # Calculating demand per segment for both products\n",
    "  demand_traveler = 300*traveler_demand_MNL(rbind(attributes,prices))\n",
    "  demand_general = 500*general_demand_MNL(rbind(attributes,prices))\n",
    "  demand_power = 200*power_demand_MNL(rbind(attributes,prices))\n",
    "  \n",
    "  # Calculating unit cost for both products\n",
    "  costs = c(Product_cost(attributes[,1]),Product_cost(attributes[,2]))\n",
    "\n",
    "  # Calculating profit per segment  \n",
    "  profit_traveler = sum(demand_traveler*(prices-costs))\n",
    "  profit_general = sum(demand_general*(prices-costs))\n",
    "  profit_power = sum(demand_power*(prices-costs))\n",
    "  \n",
    "  # Calculating total profit across all segments\n",
    "  total_profit = profit_traveler + profit_general + profit_power\n",
    "  return(-total_profit)\n",
    "}"
   ]
  },
  {
   "cell_type": "code",
   "execution_count": 56,
   "metadata": {
    "collapsed": false
   },
   "outputs": [
    {
     "name": "stdout",
     "output_type": "stream",
     "text": [
      "\n",
      "Iter: 1 fn: -700301.9175\t Pars:    17.00000    7.00000   16.00000    3.50000 1817.31946   13.00000    3.00000   16.00000    1.50000 1687.60330\n",
      "Iter: 2 fn: -700301.9188\t Pars:    17.00000    7.00000   16.00000    3.50000 1817.31941   13.00000    3.00000   16.00000    1.50000 1687.60356\n",
      "solnp--> Completed in 2 iterations\n",
      "\n",
      "Iter: 1 fn: -700301.9137\t Pars:    17.00000    7.00000   16.00000    3.50000 1817.31945   13.00000    3.00000   16.00000    1.50000 1687.60362\n",
      "Iter: 2 fn: -700301.9161\t Pars:    17.00000    7.00000   16.00000    3.50000 1817.31929   13.00000    3.00000   16.00000    1.50000 1687.60396\n",
      "solnp--> Completed in 2 iterations\n",
      "\n",
      "Iter: 1 fn: -700301.9174\t Pars:    13.00000    3.00000   16.00000    1.50000 1687.60384   17.00000    7.00000   16.00000    3.50000 1817.31924\n",
      "Iter: 2 fn: -700301.9188\t Pars:    13.00000    3.00000   16.00000    1.50000 1687.60364   17.00000    7.00000   16.00000    3.50000 1817.31922\n",
      "solnp--> Completed in 2 iterations\n",
      "\n",
      "Iter: 1 fn: -700301.9145\t Pars:    13.00000    3.00000   16.00000    1.50000 1687.60352   17.00000    7.00000   16.00000    3.50000 1817.31931\n",
      "Iter: 2 fn: -700301.9170\t Pars:    13.00000    3.00000   16.00000    1.50000 1687.60348   17.00000    7.00000   16.00000    3.50000 1817.31923\n",
      "solnp--> Completed in 2 iterations\n",
      "\n",
      "Iter: 1 fn: -700301.9169\t Pars:    17.00000    7.00000   16.00000    3.50000 1817.31938   13.00000    3.00000   16.00000    1.50000 1687.60383\n",
      "Iter: 2 fn: -700301.9183\t Pars:    17.00000    7.00000   16.00000    3.50000 1817.31962   13.00000    3.00000   16.00000    1.50000 1687.60404\n",
      "solnp--> Completed in 2 iterations\n",
      "\n",
      "Iter: 1 fn: -700301.9185\t Pars:    17.00000    7.00000   16.00000    3.50000 1817.31899   13.00000    3.00000   16.00000    1.50000 1687.60338\n",
      "Iter: 2 fn: -700301.9187\t Pars:    17.00000    7.00000   16.00000    3.50000 1817.31944   13.00000    3.00000   16.00000    1.50000 1687.60373\n",
      "solnp--> Completed in 2 iterations\n",
      "\n",
      "Iter: 1 fn: -700301.9161\t Pars:    17.00000    7.00000   16.00000    3.50000 1817.31941   13.00000    3.00000   16.00000    1.50000 1687.60374\n",
      "Iter: 2 fn: -700301.9181\t Pars:    17.00000    7.00000   16.00000    3.50000 1817.31941   13.00000    3.00000   16.00000    1.50000 1687.60374\n",
      "solnp--> Completed in 2 iterations\n",
      "\n",
      "Iter: 1 fn: -700301.9189\t Pars:    17.00000    7.00000   16.00000    3.50000 1817.31924   13.00000    3.00000   16.00000    1.50000 1687.60379\n",
      "Iter: 2 fn: -700301.9190\t Pars:    17.00000    7.00000   16.00000    3.50000 1817.31977   13.00000    3.00000   16.00000    1.50000 1687.60393\n",
      "solnp--> Completed in 2 iterations\n",
      "\n",
      "Iter: 1 fn: -700301.9057\t Pars:    17.00000    7.00000   16.00000    3.50000 1817.31972   13.00000    3.00000   16.00000    1.50000 1687.60397\n",
      "Iter: 2 fn: -700301.9188\t Pars:    17.00000    7.00000   16.00000    3.50000 1817.31912   13.00000    3.00000   16.00000    1.50000 1687.60436\n",
      "Iter: 3 fn: -700301.9193\t Pars:    17.00000    7.00000   16.00000    3.50000 1817.32127   13.00000    3.00000   16.00000    1.50000 1687.60281\n",
      "solnp--> Completed in 3 iterations\n",
      "\n",
      "Iter: 1 fn: -700301.9156\t Pars:    13.00000    3.00000   16.00000    1.50000 1687.60357   17.00000    7.00000   16.00000    3.50000 1817.31929\n",
      "Iter: 2 fn: -700301.9178\t Pars:    13.00000    3.00000   16.00000    1.50000 1687.60371   17.00000    7.00000   16.00000    3.50000 1817.31941\n",
      "solnp--> Completed in 2 iterations\n"
     ]
    }
   ],
   "source": [
    "# Solving optimization problem\n",
    "x1_attributes = c(13,3,4,1.5)\n",
    "x1_price = 500\n",
    "x2_attributes = c(17,7,16,3.5)\n",
    "x2_price = 500\n",
    "x_matrix = cbind(c(x1_attributes, x1_price), c(x2_attributes, x2_price))\n",
    "result_profit = gosolnp(pars=as.vector(x_matrix), fun=Profit3, LB = c(13,3,4,1.5,500,13,3,4,1.5,500), UB = c(17,7,16,3.5,5000,17,7,16,3.5,5000), n.restarts = 10, n.sim = 100000)"
   ]
  },
  {
   "cell_type": "code",
   "execution_count": 57,
   "metadata": {
    "collapsed": false
   },
   "outputs": [
    {
     "data": {
      "text/html": [
       "<table>\n",
       "<thead><tr><th></th><th scope=col>Product 1</th><th scope=col>Product 2</th></tr></thead>\n",
       "<tbody>\n",
       "\t<tr><th scope=row>Screen</th><td>  17.0</td><td>  13.0</td></tr>\n",
       "\t<tr><th scope=row>Weight</th><td>   7.0</td><td>   3.0</td></tr>\n",
       "\t<tr><th scope=row>RAM</th><td>  16.0</td><td>  16.0</td></tr>\n",
       "\t<tr><th scope=row>CPU</th><td>   3.5</td><td>   1.5</td></tr>\n",
       "\t<tr><th scope=row>Price</th><td>1817.3</td><td>1687.6</td></tr>\n",
       "</tbody>\n",
       "</table>\n"
      ],
      "text/latex": [
       "\\begin{tabular}{r|ll}\n",
       "  & Product 1 & Product 2\\\\\n",
       "\\hline\n",
       "\tScreen &   17.0 &   13.0\\\\\n",
       "\tWeight &    7.0 &    3.0\\\\\n",
       "\tRAM &   16.0 &   16.0\\\\\n",
       "\tCPU &    3.5 &    1.5\\\\\n",
       "\tPrice & 1817.3 & 1687.6\\\\\n",
       "\\end{tabular}\n"
      ],
      "text/markdown": [
       "\n",
       "| <!--/--> | Product 1 | Product 2 | \n",
       "|---|---|---|---|---|\n",
       "| Screen |   17.0 |   13.0 | \n",
       "| Weight |    7.0 |    3.0 | \n",
       "| RAM |   16.0 |   16.0 | \n",
       "| CPU |    3.5 |    1.5 | \n",
       "| Price | 1817.3 | 1687.6 | \n",
       "\n",
       "\n"
      ],
      "text/plain": [
       "       Product 1 Product 2\n",
       "Screen   17.0      13.0   \n",
       "Weight    7.0       3.0   \n",
       "RAM      16.0      16.0   \n",
       "CPU       3.5       1.5   \n",
       "Price  1817.3    1687.6   "
      ]
     },
     "metadata": {},
     "output_type": "display_data"
    }
   ],
   "source": [
    "# Reporting optimization results\n",
    "result_pars = matrix(result_profit$pars,nrow = 5,ncol = 2)\n",
    "colnames(result_pars) = c(\"Product 1\", \"Product 2\")\n",
    "rownames(result_pars) = c(names(product_types[,2:5]),\"Price\")\n",
    "round(result_pars,1)"
   ]
  },
  {
   "cell_type": "code",
   "execution_count": 58,
   "metadata": {
    "collapsed": false
   },
   "outputs": [
    {
     "data": {
      "text/html": [
       "700301.919333844"
      ],
      "text/latex": [
       "700301.919333844"
      ],
      "text/markdown": [
       "700301.919333844"
      ],
      "text/plain": [
       "[1] 700301.9"
      ]
     },
     "metadata": {},
     "output_type": "display_data"
    }
   ],
   "source": [
    "# Expected profit at optimal design and pricing\n",
    "-Profit3(as.vector(result_pars))"
   ]
  }
 ],
 "metadata": {
  "kernelspec": {
   "display_name": "R",
   "language": "R",
   "name": "ir"
  },
  "language_info": {
   "codemirror_mode": "r",
   "file_extension": ".r",
   "mimetype": "text/x-r-source",
   "name": "R",
   "pygments_lexer": "r",
   "version": "3.3.2"
  }
 },
 "nbformat": 4,
 "nbformat_minor": 1
}
